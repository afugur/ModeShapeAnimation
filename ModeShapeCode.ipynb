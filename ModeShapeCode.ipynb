{
 "cells": [
  {
   "cell_type": "markdown",
   "metadata": {},
   "source": [
    "# **Import**"
   ]
  },
  {
   "cell_type": "code",
   "execution_count": null,
   "metadata": {},
   "outputs": [],
   "source": [
    "from obspy import read\n",
    "import plotly.graph_objects as go\n",
    "from scipy.signal import spectrogram, hanning\n",
    "from scipy import signal\n",
    "import numpy as np\n",
    "import pandas as pd\n",
    "import matplotlib.pyplot as plt"
   ]
  },
  {
   "cell_type": "markdown",
   "metadata": {},
   "source": [
    "# **Create Geometry**"
   ]
  },
  {
   "cell_type": "code",
   "execution_count": null,
   "metadata": {},
   "outputs": [],
   "source": [
    "def CreateGeometry(f_number,f_distance,equidistant=True):\n",
    "    global fig\n",
    "    global x\n",
    "    global z\n",
    "    fig = go.Figure()\n",
    "    list_floor = []\n",
    "    \n",
    "    if equidistant == True:\n",
    "        \n",
    "        f_total = f_number * f_distance\n",
    "        \n",
    "        z = np.arange(0,f_total+f_distance,f_distance)\n",
    "        x = np.zeros(len(z))\n",
    "        \n",
    "        fig.add_trace(go.Scatter(x=x, y=z,\n",
    "                    mode='lines+markers',\n",
    "                    name='Floor'))\n",
    "        \n",
    "        fig.update_traces(marker=dict(size=14,\n",
    "                              line=dict(width=2,\n",
    "                                        color='DarkSlateGrey')))\n",
    "        \n",
    "        \n",
    "        fig.write_html(\"Floor.html\")\n",
    "        \n",
    "    \n",
    "    if equidistant == False:\n",
    "        \n",
    "        while True:\n",
    "            \n",
    "\n",
    "            q_floor = input(\"Floor Distance :\")\n",
    "            \n",
    "            q_floor = int(q_floor)\n",
    "            \n",
    "            list_floor.append(q_floor)\n",
    "        \n",
    "            if q_floor == 0:\n",
    "                list_floor.remove(0)\n",
    "                break\n",
    "                \n",
    "        z = list_floor\n",
    "        x = np.zeros(len(z))\n",
    "        \n",
    "        fig.add_trace(go.Scatter(x=x, y=z,\n",
    "                    mode='lines+markers',\n",
    "                    name='Floor'))\n",
    "        \n",
    "        fig.update_traces(marker=dict(size=14,\n",
    "                              line=dict(width=2,\n",
    "                                        color='DarkSlateGrey')))     \n",
    "    \n",
    "\n",
    "        fig.write_html(\"Floor.html\")\n",
    "    \n",
    "    \n",
    "            "
   ]
  },
  {
   "cell_type": "code",
   "execution_count": null,
   "metadata": {},
   "outputs": [],
   "source": [
    "CreateGeometry(3,3,equidistant=True)"
   ]
  },
  {
   "cell_type": "markdown",
   "metadata": {},
   "source": [
    "# ***PlaceSensor***"
   ]
  },
  {
   "cell_type": "code",
   "execution_count": null,
   "metadata": {},
   "outputs": [],
   "source": [
    "floor_list = []\n",
    "direction_list = []\n",
    "channel_list = []\n",
    "\n",
    "\n",
    "def placeSensor(floor,channel_name,direction=\"X\"):\n",
    "    \n",
    "    fig.add_trace(go.Scatter(x=[0], y=[floor],\n",
    "                         marker=dict(size=20, color=\"red\"),\n",
    "        mode='markers+text',\n",
    "        name=channel_name,\n",
    "        text=[channel_name],\n",
    "        textposition='middle right'))\n",
    "    \n",
    "    floor_list.append(floor)\n",
    "    direction_list.append(direction)\n",
    "    channel_list.append(channel_name)\n",
    "    \n",
    "    \n",
    "    fig.write_html(\"Floor3.html\")\n",
    "    \n"
   ]
  },
  {
   "cell_type": "code",
   "execution_count": null,
   "metadata": {},
   "outputs": [],
   "source": [
    "placeSensor(3,\"5894_5t64n0_20200308_0400.gcf\")"
   ]
  },
  {
   "cell_type": "code",
   "execution_count": null,
   "metadata": {},
   "outputs": [],
   "source": [
    "placeSensor(6,\"5894_5t64n0_20200217_1500.gcf\")"
   ]
  },
  {
   "cell_type": "code",
   "execution_count": null,
   "metadata": {},
   "outputs": [],
   "source": [
    "placeSensor(9,\"5894_5t64n0_20201030_1100.gcf\")"
   ]
  },
  {
   "cell_type": "code",
   "execution_count": null,
   "metadata": {},
   "outputs": [],
   "source": [
    "mean_S = pd.DataFrame()\n",
    "\n",
    "def Analysis(count,window_size,overlap,fs,filtertype=\"bandpass\",**filteroptions):\n",
    "    global st\n",
    "    global var_count\n",
    "    st = read(channel_list[0])\n",
    "    var_count = count\n",
    "    for a in range(len(channel_list)-1):\n",
    "        st += read(channel_list[1 + a])\n",
    "        \n",
    "        st = st.filter(filtertype,**filteroptions)\n",
    "        st = st.detrend(\"spline\", order=3, dspline=200)\n",
    "        \n",
    "        for i in range(len(channel_list)-1):\n",
    "            M = window_size\n",
    "            NFFT = M\n",
    "            win = signal.windows.hamming(M)\n",
    "            overlap = overlap /100\n",
    "            overlap_samples = int(round(M*overlap)) # overlap in samples\n",
    "            t, f, S = spectrogram(st[i].data/(round(count)* 9.81),fs=fs,window=win,nperseg=M,noverlap=overlap_samples,nfft=NFFT)\n",
    "\n",
    "            avg_S = np.mean(S,axis=1)\n",
    "            mean_S[\"xf\"] = t\n",
    "            mean_S[channel_list[i]] = avg_S"
   ]
  },
  {
   "cell_type": "code",
   "execution_count": null,
   "metadata": {},
   "outputs": [],
   "source": [
    "Analysis(318870.64,4096,66,200,\"bandpass\",freqmin=1,freqmax=20)"
   ]
  },
  {
   "cell_type": "code",
   "execution_count": null,
   "metadata": {},
   "outputs": [],
   "source": [
    "plt.figure(figsize=[15,3])\n",
    "plt.plot(mean_S['xf'][0:100],mean_S['5894_5t64n0_20200308_0400.gcf'][0:100])\n",
    "plt.vlines(1.86,0,1.2*10**-8, linestyles='dashed',color=\"red\")\n",
    "plt.vlines(3.16,0,1.2*10**-8, linestyles='dashed',color=\"red\")"
   ]
  },
  {
   "cell_type": "markdown",
   "metadata": {},
   "source": [
    "# ***ShowAnimation*** "
   ]
  },
  {
   "cell_type": "code",
   "execution_count": null,
   "metadata": {},
   "outputs": [],
   "source": [
    "import scipy.integrate as it\n",
    "\n",
    "\n",
    "\n",
    "def showAnimation(modfreq,min_length,max_length,shape_steps,all_length = True):\n",
    "    global max_df\n",
    "    global disp_df\n",
    "    st1 = st.copy()\n",
    "    st1 = st1.filter(\"bandpass\",freqmin=modfreq-0.2,freqmax=modfreq+0.2)\n",
    "    \n",
    "    disp_df = pd.DataFrame()\n",
    "    \n",
    "    for a in range(3): # Add three reference line\n",
    "        fig.add_trace(go.Scatter(x=[0], y=[0],\n",
    "                         mode=\"lines\",\n",
    "                         name=\"Reference Line\"))\n",
    "        \n",
    "        \n",
    "    for channel in range(len(channel_list)):\n",
    "        \n",
    "        X = st1[channel].data /(round(var_count)* 9620)\n",
    "        velocity = it.cumtrapz(X,initial=0)\n",
    "        disp_df[channel_list[channel]] = it.cumtrapz(velocity,initial=0)\n",
    "    \n",
    "    \n",
    "    \n",
    "    if all_length == True:\n",
    "        min_length = 0\n",
    "        max_length = len(st[0].data)\n",
    "        \n",
    "        print(min_length,max_length)\n",
    "        \n",
    "        \n",
    "    else:\n",
    "        max_df1 = disp_df[min_length:max_length].max()\n",
    "        max_df = max_df1.max()\n",
    "        \n",
    "        xx = disp_df[channel_list[0]][min_length:max_length]\n",
    "        xx1 = disp_df[channel_list[1]][min_length:max_length]\n",
    "        xx2 = disp_df[channel_list[2]][min_length:max_length]\n",
    "        \n",
    "        repeat = np.repeat(floor_list[0],len(disp_df[channel_list[0]][min_length:max_length]))\n",
    "        repeat1 = np.repeat(floor_list[1],len(disp_df[channel_list[1]][min_length:max_length]))\n",
    "        repeat2 = np.repeat(floor_list[2],len(disp_df[channel_list[2]][min_length:max_length]))\n",
    "        \n",
    "        \n",
    "        xend = np.repeat(0,len(disp_df[channel_list[0]][min_length:max_length]))\n",
    "        xnoe = np.repeat(0,len(disp_df[channel_list[0]][min_length:max_length]))\n",
    "        \n",
    "\n",
    "        \n",
    "    fig.frames=[go.Frame(\n",
    "        data=[go.Scatter(x=x, y=z,\n",
    "                    mode='lines+markers',\n",
    "                    name='Floor'),\n",
    "            \n",
    "            \n",
    "            go.Scatter(\n",
    "            \n",
    "            x=[xx[k]],\n",
    "            y=[repeat[k]],\n",
    "            mode=\"markers\",\n",
    "            marker=dict(color=\"red\", size=20)),\n",
    "              \n",
    "            go.Scatter(\n",
    "            \n",
    "            x=[xx1[k]],\n",
    "            y=[repeat1[k]],\n",
    "            mode=\"markers\",\n",
    "            marker=dict(color=\"red\", size=20)),\n",
    "              \n",
    "            go.Scatter(\n",
    "            \n",
    "            x=[xx2[k]],\n",
    "            y=[repeat2[k]],\n",
    "            mode=\"markers\",\n",
    "            marker=dict(color=\"red\", size=20)),\n",
    "            \n",
    "            go.Scatter(\n",
    "            \n",
    "            x=[xend[k],xx[k]],\n",
    "            y=[xnoe[k],repeat[k]],\n",
    "            mode=\"lines\",\n",
    "            name = \"Reference Line\",\n",
    "            line=dict(color='black', width=2,dash='dash')),\n",
    "             \n",
    "             \n",
    "            go.Scatter(\n",
    "            \n",
    "            x=[xx[k],xx1[k]],\n",
    "            y=[repeat[k],repeat1[k]],\n",
    "            mode=\"lines\",\n",
    "            name = \"Reference Line\",\n",
    "            line=dict(color='black', width=2,dash='dash')),\n",
    "              \n",
    "            go.Scatter(\n",
    "            \n",
    "            x=[xx1[k],xx2[k]],\n",
    "            y=[repeat1[k],repeat2[k]],\n",
    "            mode=\"lines\",\n",
    "            name = \"Reference Line\",\n",
    "            line=dict(color='black', width=2,dash='dash'))\n",
    "             \n",
    "             \n",
    "             ])\n",
    "            \n",
    "            \n",
    "            for k in range(1,len(disp_df[channel_list[0]][min_length:max_length]),shape_steps)\n",
    "            \n",
    "           ] \n",
    "    \n",
    "    fig.layout=go.Layout(\n",
    "        xaxis=dict(range=[-max_df, max_df], autorange=True, zeroline=False),\n",
    "        yaxis=dict(range=[0, 12], autorange=False, zeroline=False),\n",
    "        title_text=\"Mode Shape Animation\", hovermode=\"closest\",\n",
    "        updatemenus=[dict(type=\"buttons\",\n",
    "                          buttons=[dict(label=\"Play\",\n",
    "                                        method=\"animate\",\n",
    "                                        args=[None])])])\n",
    "    \n",
    "    \n",
    "    \n",
    "    fig.write_html(\"Function.html\")\n",
    "                            "
   ]
  },
  {
   "cell_type": "code",
   "execution_count": null,
   "metadata": {},
   "outputs": [],
   "source": [
    "showAnimation(3.16,0,50,10,all_length = False)"
   ]
  },
  {
   "cell_type": "code",
   "execution_count": null,
   "metadata": {},
   "outputs": [],
   "source": []
  },
  {
   "cell_type": "code",
   "execution_count": null,
   "metadata": {},
   "outputs": [],
   "source": []
  },
  {
   "cell_type": "code",
   "execution_count": null,
   "metadata": {},
   "outputs": [],
   "source": []
  },
  {
   "cell_type": "code",
   "execution_count": null,
   "metadata": {},
   "outputs": [],
   "source": []
  },
  {
   "cell_type": "code",
   "execution_count": null,
   "metadata": {},
   "outputs": [],
   "source": []
  },
  {
   "cell_type": "code",
   "execution_count": null,
   "metadata": {},
   "outputs": [],
   "source": [
    "\n"
   ]
  },
  {
   "cell_type": "code",
   "execution_count": null,
   "metadata": {},
   "outputs": [],
   "source": []
  },
  {
   "cell_type": "code",
   "execution_count": null,
   "metadata": {},
   "outputs": [],
   "source": []
  },
  {
   "cell_type": "code",
   "execution_count": null,
   "metadata": {},
   "outputs": [],
   "source": []
  },
  {
   "cell_type": "code",
   "execution_count": null,
   "metadata": {},
   "outputs": [],
   "source": []
  },
  {
   "cell_type": "code",
   "execution_count": null,
   "metadata": {},
   "outputs": [],
   "source": [
    "\n"
   ]
  },
  {
   "cell_type": "code",
   "execution_count": null,
   "metadata": {},
   "outputs": [],
   "source": []
  },
  {
   "cell_type": "code",
   "execution_count": null,
   "metadata": {},
   "outputs": [],
   "source": [
    "import scipy.integrate as it\n",
    "X = st[1].data\n",
    "velocity = it.cumtrapz(X,initial=0)\n",
    "location = it.cumtrapz(velocity,initial=0)\n"
   ]
  },
  {
   "cell_type": "code",
   "execution_count": null,
   "metadata": {},
   "outputs": [],
   "source": []
  },
  {
   "cell_type": "code",
   "execution_count": null,
   "metadata": {},
   "outputs": [],
   "source": [
    "disp_df[0:100].max()"
   ]
  },
  {
   "cell_type": "code",
   "execution_count": null,
   "metadata": {},
   "outputs": [],
   "source": []
  },
  {
   "cell_type": "code",
   "execution_count": null,
   "metadata": {},
   "outputs": [],
   "source": []
  },
  {
   "cell_type": "code",
   "execution_count": null,
   "metadata": {},
   "outputs": [],
   "source": []
  },
  {
   "cell_type": "code",
   "execution_count": null,
   "metadata": {},
   "outputs": [],
   "source": []
  },
  {
   "cell_type": "code",
   "execution_count": null,
   "metadata": {},
   "outputs": [],
   "source": [
    "fig.write_html(\"deneme4.html\")"
   ]
  },
  {
   "cell_type": "code",
   "execution_count": null,
   "metadata": {},
   "outputs": [],
   "source": []
  }
 ],
 "metadata": {
  "kernelspec": {
   "display_name": "Python 3",
   "language": "python",
   "name": "python3"
  },
  "language_info": {
   "codemirror_mode": {
    "name": "ipython",
    "version": 3
   },
   "file_extension": ".py",
   "mimetype": "text/x-python",
   "name": "python",
   "nbconvert_exporter": "python",
   "pygments_lexer": "ipython3",
   "version": "3.8.3"
  }
 },
 "nbformat": 4,
 "nbformat_minor": 4
}
